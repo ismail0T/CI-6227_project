{
 "cells": [
  {
   "cell_type": "markdown",
   "metadata": {},
   "source": [
    "# CI6227 Project\n",
    "Team Miners"
   ]
  },
  {
   "cell_type": "markdown",
   "metadata": {},
   "source": [
    "## This notebook reads data and does important visualization"
   ]
  },
  {
   "cell_type": "code",
   "execution_count": 35,
   "metadata": {},
   "outputs": [
    {
     "name": "stdout",
     "output_type": "stream",
     "text": [
      "0.17.4\n",
      "Python 2.7.10\r\n"
     ]
    }
   ],
   "source": [
    "import catboost\n",
    "print(catboost.__version__)\n",
    "!python --version\n",
    "\n",
    "import pandas as pd\n",
    "import os\n",
    "import numpy as np\n",
    "np.set_printoptions(precision=4)\n",
    "import catboost\n",
    "from catboost import *\n",
    "from catboost import datasets\n",
    "import chart_studio.plotly as ply\n",
    "import plotly.graph_objects as go"
   ]
  },
  {
   "cell_type": "code",
   "execution_count": 2,
   "metadata": {},
   "outputs": [
    {
     "name": "stdout",
     "output_type": "stream",
     "text": [
      "Host_Gender,Latitude,Longitude,Area,Room_type,Minimum_nights,review_per_month,total_reviews,price\r\n",
      "F,40.76513837311219,-73.7717992780513,Queens,Entire room/apt,3,4.72,123,Medium\r\n",
      "F,40.767728375993826,-73.77945283434039,Brooklyn,Private room,2,1.34,138,Medium\r\n",
      "F,40.76432989358729,-73.77253032210264,Inwood,Entire room/apt,4,2.97,101,Medium\r\n",
      "M,40.76367145396922,-73.77015095853046,Manhattan,Entire room/apt,5,4.51,96,High\r\n",
      "F,40.76596688813258,-73.77745556900533,Manhattan,Private room,3,7.31,204,Medium\r\n",
      "M,40.76453178316548,-73.77791216471914,Manhattan,Private room,1,14.24,119,Medium\r\n",
      "M,40.76136705782038,-73.77217479148787,Brooklyn,Private room,2,4.53,74,Medium\r\n",
      "M,40.766567566683996,-73.7740837214047,Brooklyn,Private room,2,9.16,148,Medium\r\n",
      "F,40.760212884468466,-73.776033776109,Inwood,Entire room/apt,3,1.88,5,Medium\r\n"
     ]
    }
   ],
   "source": [
    "!head data.csv"
   ]
  },
  {
   "cell_type": "markdown",
   "metadata": {},
   "source": [
    "## Loading data as Pandas DataFrame and getting info"
   ]
  },
  {
   "cell_type": "code",
   "execution_count": 15,
   "metadata": {},
   "outputs": [
    {
     "data": {
      "text/html": [
       "<div>\n",
       "<style scoped>\n",
       "    .dataframe tbody tr th:only-of-type {\n",
       "        vertical-align: middle;\n",
       "    }\n",
       "\n",
       "    .dataframe tbody tr th {\n",
       "        vertical-align: top;\n",
       "    }\n",
       "\n",
       "    .dataframe thead th {\n",
       "        text-align: right;\n",
       "    }\n",
       "</style>\n",
       "<table border=\"1\" class=\"dataframe\">\n",
       "  <thead>\n",
       "    <tr style=\"text-align: right;\">\n",
       "      <th></th>\n",
       "      <th>Host_Gender</th>\n",
       "      <th>Latitude</th>\n",
       "      <th>Longitude</th>\n",
       "      <th>Area</th>\n",
       "      <th>Room_type</th>\n",
       "      <th>Minimum_nights</th>\n",
       "      <th>review_per_month</th>\n",
       "      <th>total_reviews</th>\n",
       "      <th>price</th>\n",
       "    </tr>\n",
       "  </thead>\n",
       "  <tbody>\n",
       "    <tr>\n",
       "      <td>0</td>\n",
       "      <td>F</td>\n",
       "      <td>40.765138</td>\n",
       "      <td>-73.771799</td>\n",
       "      <td>Queens</td>\n",
       "      <td>Entire room/apt</td>\n",
       "      <td>3</td>\n",
       "      <td>4.72</td>\n",
       "      <td>123</td>\n",
       "      <td>Medium</td>\n",
       "    </tr>\n",
       "    <tr>\n",
       "      <td>1</td>\n",
       "      <td>F</td>\n",
       "      <td>40.767728</td>\n",
       "      <td>-73.779453</td>\n",
       "      <td>Brooklyn</td>\n",
       "      <td>Private room</td>\n",
       "      <td>2</td>\n",
       "      <td>1.34</td>\n",
       "      <td>138</td>\n",
       "      <td>Medium</td>\n",
       "    </tr>\n",
       "    <tr>\n",
       "      <td>2</td>\n",
       "      <td>F</td>\n",
       "      <td>40.764330</td>\n",
       "      <td>-73.772530</td>\n",
       "      <td>Inwood</td>\n",
       "      <td>Entire room/apt</td>\n",
       "      <td>4</td>\n",
       "      <td>2.97</td>\n",
       "      <td>101</td>\n",
       "      <td>Medium</td>\n",
       "    </tr>\n",
       "    <tr>\n",
       "      <td>3</td>\n",
       "      <td>M</td>\n",
       "      <td>40.763671</td>\n",
       "      <td>-73.770151</td>\n",
       "      <td>Manhattan</td>\n",
       "      <td>Entire room/apt</td>\n",
       "      <td>5</td>\n",
       "      <td>4.51</td>\n",
       "      <td>96</td>\n",
       "      <td>High</td>\n",
       "    </tr>\n",
       "    <tr>\n",
       "      <td>4</td>\n",
       "      <td>F</td>\n",
       "      <td>40.765967</td>\n",
       "      <td>-73.777456</td>\n",
       "      <td>Manhattan</td>\n",
       "      <td>Private room</td>\n",
       "      <td>3</td>\n",
       "      <td>7.31</td>\n",
       "      <td>204</td>\n",
       "      <td>Medium</td>\n",
       "    </tr>\n",
       "  </tbody>\n",
       "</table>\n",
       "</div>"
      ],
      "text/plain": [
       "  Host_Gender   Latitude  Longitude       Area        Room_type  \\\n",
       "0           F  40.765138 -73.771799     Queens  Entire room/apt   \n",
       "1           F  40.767728 -73.779453   Brooklyn     Private room   \n",
       "2           F  40.764330 -73.772530     Inwood  Entire room/apt   \n",
       "3           M  40.763671 -73.770151  Manhattan  Entire room/apt   \n",
       "4           F  40.765967 -73.777456  Manhattan     Private room   \n",
       "\n",
       "   Minimum_nights  review_per_month  total_reviews   price  \n",
       "0               3              4.72            123  Medium  \n",
       "1               2              1.34            138  Medium  \n",
       "2               4              2.97            101  Medium  \n",
       "3               5              4.51             96    High  \n",
       "4               3              7.31            204  Medium  "
      ]
     },
     "execution_count": 15,
     "metadata": {},
     "output_type": "execute_result"
    }
   ],
   "source": [
    "df = pd.read_csv('data.csv')\n",
    "df.head()"
   ]
  },
  {
   "cell_type": "code",
   "execution_count": 44,
   "metadata": {},
   "outputs": [
    {
     "name": "stdout",
     "output_type": "stream",
     "text": [
      "Dataframe shape:  (100000, 9)\n",
      "\n",
      "<class 'pandas.core.frame.DataFrame'>\n",
      "RangeIndex: 100000 entries, 0 to 99999\n",
      "Data columns (total 9 columns):\n",
      "Host_Gender         100000 non-null object\n",
      "Latitude            100000 non-null float64\n",
      "Longitude           100000 non-null float64\n",
      "Area                100000 non-null object\n",
      "Room_type           100000 non-null object\n",
      "Minimum_nights      100000 non-null int64\n",
      "review_per_month    100000 non-null float64\n",
      "total_reviews       100000 non-null int64\n",
      "price               100000 non-null object\n",
      "dtypes: float64(3), int64(2), object(4)\n",
      "memory usage: 6.9+ MB\n"
     ]
    }
   ],
   "source": [
    "# Gets information about the dataset like, \n",
    "# :total values in each column,\n",
    "# :null/not null,\n",
    "# :datatype,\n",
    "# :memory occupied, etc\n",
    "print(\"Dataframe shape: \", df.shape);\n",
    "print()\n",
    "df.info()"
   ]
  },
  {
   "cell_type": "code",
   "execution_count": 40,
   "metadata": {},
   "outputs": [
    {
     "name": "stderr",
     "output_type": "stream",
     "text": [
      "/Library/Frameworks/Python.framework/Versions/3.6/lib/python3.6/site-packages/ipykernel_launcher.py:2: FutureWarning:\n",
      "\n",
      "`get_dtype_counts` has been deprecated and will be removed in a future version. For DataFrames use `.dtypes.value_counts()\n",
      "\n"
     ]
    },
    {
     "data": {
      "text/plain": [
       "float64    3\n",
       "int64      2\n",
       "object     4\n",
       "dtype: int64"
      ]
     },
     "execution_count": 40,
     "metadata": {},
     "output_type": "execute_result"
    }
   ],
   "source": [
    "# Give the number of columns with different datatypes are there\n",
    "df.get_dtype_counts()"
   ]
  },
  {
   "cell_type": "code",
   "execution_count": 46,
   "metadata": {},
   "outputs": [
    {
     "data": {
      "text/html": [
       "<div>\n",
       "<style scoped>\n",
       "    .dataframe tbody tr th:only-of-type {\n",
       "        vertical-align: middle;\n",
       "    }\n",
       "\n",
       "    .dataframe tbody tr th {\n",
       "        vertical-align: top;\n",
       "    }\n",
       "\n",
       "    .dataframe thead th {\n",
       "        text-align: right;\n",
       "    }\n",
       "</style>\n",
       "<table border=\"1\" class=\"dataframe\">\n",
       "  <thead>\n",
       "    <tr style=\"text-align: right;\">\n",
       "      <th></th>\n",
       "      <th>Latitude</th>\n",
       "      <th>Longitude</th>\n",
       "      <th>Minimum_nights</th>\n",
       "      <th>review_per_month</th>\n",
       "      <th>total_reviews</th>\n",
       "    </tr>\n",
       "  </thead>\n",
       "  <tbody>\n",
       "    <tr>\n",
       "      <td>count</td>\n",
       "      <td>100000.000000</td>\n",
       "      <td>100000.000000</td>\n",
       "      <td>100000.00000</td>\n",
       "      <td>100000.000000</td>\n",
       "      <td>100000.000000</td>\n",
       "    </tr>\n",
       "    <tr>\n",
       "      <td>mean</td>\n",
       "      <td>40.765011</td>\n",
       "      <td>-73.775001</td>\n",
       "      <td>3.00410</td>\n",
       "      <td>5.003442</td>\n",
       "      <td>133.279310</td>\n",
       "    </tr>\n",
       "    <tr>\n",
       "      <td>std</td>\n",
       "      <td>0.002893</td>\n",
       "      <td>0.002889</td>\n",
       "      <td>1.28948</td>\n",
       "      <td>4.084739</td>\n",
       "      <td>97.983778</td>\n",
       "    </tr>\n",
       "    <tr>\n",
       "      <td>min</td>\n",
       "      <td>40.760000</td>\n",
       "      <td>-73.780000</td>\n",
       "      <td>1.00000</td>\n",
       "      <td>0.000000</td>\n",
       "      <td>1.000000</td>\n",
       "    </tr>\n",
       "    <tr>\n",
       "      <td>25%</td>\n",
       "      <td>40.762513</td>\n",
       "      <td>-73.777511</td>\n",
       "      <td>2.00000</td>\n",
       "      <td>1.880000</td>\n",
       "      <td>60.000000</td>\n",
       "    </tr>\n",
       "    <tr>\n",
       "      <td>50%</td>\n",
       "      <td>40.765019</td>\n",
       "      <td>-73.775001</td>\n",
       "      <td>3.00000</td>\n",
       "      <td>3.750000</td>\n",
       "      <td>120.000000</td>\n",
       "    </tr>\n",
       "    <tr>\n",
       "      <td>75%</td>\n",
       "      <td>40.767513</td>\n",
       "      <td>-73.772502</td>\n",
       "      <td>4.00000</td>\n",
       "      <td>7.500000</td>\n",
       "      <td>180.000000</td>\n",
       "    </tr>\n",
       "    <tr>\n",
       "      <td>max</td>\n",
       "      <td>40.770000</td>\n",
       "      <td>-73.770000</td>\n",
       "      <td>5.00000</td>\n",
       "      <td>15.000000</td>\n",
       "      <td>500.000000</td>\n",
       "    </tr>\n",
       "  </tbody>\n",
       "</table>\n",
       "</div>"
      ],
      "text/plain": [
       "            Latitude      Longitude  Minimum_nights  review_per_month  \\\n",
       "count  100000.000000  100000.000000    100000.00000     100000.000000   \n",
       "mean       40.765011     -73.775001         3.00410          5.003442   \n",
       "std         0.002893       0.002889         1.28948          4.084739   \n",
       "min        40.760000     -73.780000         1.00000          0.000000   \n",
       "25%        40.762513     -73.777511         2.00000          1.880000   \n",
       "50%        40.765019     -73.775001         3.00000          3.750000   \n",
       "75%        40.767513     -73.772502         4.00000          7.500000   \n",
       "max        40.770000     -73.770000         5.00000         15.000000   \n",
       "\n",
       "       total_reviews  \n",
       "count  100000.000000  \n",
       "mean      133.279310  \n",
       "std        97.983778  \n",
       "min         1.000000  \n",
       "25%        60.000000  \n",
       "50%       120.000000  \n",
       "75%       180.000000  \n",
       "max       500.000000  "
      ]
     },
     "execution_count": 46,
     "metadata": {},
     "output_type": "execute_result"
    }
   ],
   "source": [
    "# Get statistical information about the numerical columns in the dataframe\n",
    "df.describe()"
   ]
  },
  {
   "cell_type": "markdown",
   "metadata": {},
   "source": [
    "## Finding correlation in data w.r.t. review_per_month"
   ]
  },
  {
   "cell_type": "code",
   "execution_count": 55,
   "metadata": {},
   "outputs": [
    {
     "data": {
      "text/plain": [
       "review_per_month    1.000000\n",
       "total_reviews       0.208792\n",
       "Latitude            0.000325\n",
       "Longitude          -0.000260\n",
       "Minimum_nights     -0.476571\n",
       "Name: review_per_month, dtype: float64"
      ]
     },
     "execution_count": 55,
     "metadata": {},
     "output_type": "execute_result"
    }
   ],
   "source": [
    "corr=df.corr()['review_per_month']\n",
    "corr[np.argsort(corr, axis=0)[::-1]]"
   ]
  },
  {
   "cell_type": "code",
   "execution_count": 67,
   "metadata": {
    "scrolled": false
   },
   "outputs": [
    {
     "data": {
      "image/png": "[encoded data removed]",
      "text/plain": [
       "<Figure size 936x288 with 1 Axes>"
      ]
     },
     "metadata": {
      "needs_background": "light"
     },
     "output_type": "display_data"
    }
   ],
   "source": [
    "# Plotting correlations\n",
    "num_feat=df.columns[df.dtypes!=object]\n",
    "num_feat=num_feat\n",
    "labels = []\n",
    "values = []\n",
    "for col in num_feat:\n",
    "    labels.append(col)\n",
    "    values.append(np.corrcoef(df[col].values, df.review_per_month.values)[0,1])\n",
    "    \n",
    "ind = np.arange(len(labels))\n",
    "width = 0.8\n",
    "fig, ax = plt.subplots(figsize=(13,4))\n",
    "rects = ax.barh(ind, np.array(values), color='red')\n",
    "ax.set_yticks(ind+((width)/2.))\n",
    "ax.set_yticklabels(labels, rotation='horizontal')\n",
    "ax.set_xlabel(\"Correlation coefficient\")\n",
    "ax.set_title(\"Correlation Coefficients w.r.t Review_per_month\");"
   ]
  },
  {
   "cell_type": "code",
   "execution_count": 77,
   "metadata": {},
   "outputs": [
    {
     "data": {
      "text/html": [
       "<div>\n",
       "<style scoped>\n",
       "    .dataframe tbody tr th:only-of-type {\n",
       "        vertical-align: middle;\n",
       "    }\n",
       "\n",
       "    .dataframe tbody tr th {\n",
       "        vertical-align: top;\n",
       "    }\n",
       "\n",
       "    .dataframe thead th {\n",
       "        text-align: right;\n",
       "    }\n",
       "</style>\n",
       "<table border=\"1\" class=\"dataframe\">\n",
       "  <thead>\n",
       "    <tr style=\"text-align: right;\">\n",
       "      <th></th>\n",
       "      <th>Host_Gender</th>\n",
       "      <th>Latitude</th>\n",
       "      <th>Longitude</th>\n",
       "      <th>Area</th>\n",
       "      <th>Room_type</th>\n",
       "      <th>Minimum_nights</th>\n",
       "      <th>review_per_month</th>\n",
       "      <th>total_reviews</th>\n",
       "      <th>price</th>\n",
       "    </tr>\n",
       "  </thead>\n",
       "  <tbody>\n",
       "    <tr>\n",
       "      <td>0</td>\n",
       "      <td>F</td>\n",
       "      <td>40.765138</td>\n",
       "      <td>-73.771799</td>\n",
       "      <td>Queens</td>\n",
       "      <td>Entire room/apt</td>\n",
       "      <td>3</td>\n",
       "      <td>4.72</td>\n",
       "      <td>123</td>\n",
       "      <td>Medium</td>\n",
       "    </tr>\n",
       "    <tr>\n",
       "      <td>1</td>\n",
       "      <td>F</td>\n",
       "      <td>40.767728</td>\n",
       "      <td>-73.779453</td>\n",
       "      <td>Brooklyn</td>\n",
       "      <td>Private room</td>\n",
       "      <td>2</td>\n",
       "      <td>1.34</td>\n",
       "      <td>138</td>\n",
       "      <td>Medium</td>\n",
       "    </tr>\n",
       "    <tr>\n",
       "      <td>2</td>\n",
       "      <td>F</td>\n",
       "      <td>40.764330</td>\n",
       "      <td>-73.772530</td>\n",
       "      <td>Inwood</td>\n",
       "      <td>Entire room/apt</td>\n",
       "      <td>4</td>\n",
       "      <td>2.97</td>\n",
       "      <td>101</td>\n",
       "      <td>Medium</td>\n",
       "    </tr>\n",
       "    <tr>\n",
       "      <td>3</td>\n",
       "      <td>M</td>\n",
       "      <td>40.763671</td>\n",
       "      <td>-73.770151</td>\n",
       "      <td>Manhattan</td>\n",
       "      <td>Entire room/apt</td>\n",
       "      <td>5</td>\n",
       "      <td>4.51</td>\n",
       "      <td>96</td>\n",
       "      <td>High</td>\n",
       "    </tr>\n",
       "    <tr>\n",
       "      <td>4</td>\n",
       "      <td>F</td>\n",
       "      <td>40.765967</td>\n",
       "      <td>-73.777456</td>\n",
       "      <td>Manhattan</td>\n",
       "      <td>Private room</td>\n",
       "      <td>3</td>\n",
       "      <td>7.31</td>\n",
       "      <td>204</td>\n",
       "      <td>Medium</td>\n",
       "    </tr>\n",
       "    <tr>\n",
       "      <td>...</td>\n",
       "      <td>...</td>\n",
       "      <td>...</td>\n",
       "      <td>...</td>\n",
       "      <td>...</td>\n",
       "      <td>...</td>\n",
       "      <td>...</td>\n",
       "      <td>...</td>\n",
       "      <td>...</td>\n",
       "      <td>...</td>\n",
       "    </tr>\n",
       "    <tr>\n",
       "      <td>95</td>\n",
       "      <td>M</td>\n",
       "      <td>40.765809</td>\n",
       "      <td>-73.772582</td>\n",
       "      <td>Brooklyn</td>\n",
       "      <td>Private room</td>\n",
       "      <td>3</td>\n",
       "      <td>9.90</td>\n",
       "      <td>219</td>\n",
       "      <td>Medium</td>\n",
       "    </tr>\n",
       "    <tr>\n",
       "      <td>96</td>\n",
       "      <td>M</td>\n",
       "      <td>40.766726</td>\n",
       "      <td>-73.778148</td>\n",
       "      <td>Brooklyn</td>\n",
       "      <td>Private room</td>\n",
       "      <td>1</td>\n",
       "      <td>8.07</td>\n",
       "      <td>471</td>\n",
       "      <td>Medium</td>\n",
       "    </tr>\n",
       "    <tr>\n",
       "      <td>97</td>\n",
       "      <td>F</td>\n",
       "      <td>40.762457</td>\n",
       "      <td>-73.779213</td>\n",
       "      <td>Inwood</td>\n",
       "      <td>Private room</td>\n",
       "      <td>1</td>\n",
       "      <td>5.17</td>\n",
       "      <td>92</td>\n",
       "      <td>Low</td>\n",
       "    </tr>\n",
       "    <tr>\n",
       "      <td>98</td>\n",
       "      <td>M</td>\n",
       "      <td>40.765348</td>\n",
       "      <td>-73.778873</td>\n",
       "      <td>Inwood</td>\n",
       "      <td>Private room</td>\n",
       "      <td>2</td>\n",
       "      <td>0.27</td>\n",
       "      <td>93</td>\n",
       "      <td>Low</td>\n",
       "    </tr>\n",
       "    <tr>\n",
       "      <td>99</td>\n",
       "      <td>F</td>\n",
       "      <td>40.769526</td>\n",
       "      <td>-73.775669</td>\n",
       "      <td>Manhattan</td>\n",
       "      <td>Entire room/apt</td>\n",
       "      <td>3</td>\n",
       "      <td>4.59</td>\n",
       "      <td>176</td>\n",
       "      <td>High</td>\n",
       "    </tr>\n",
       "  </tbody>\n",
       "</table>\n",
       "<p>100 rows × 9 columns</p>\n",
       "</div>"
      ],
      "text/plain": [
       "   Host_Gender   Latitude  Longitude       Area        Room_type  \\\n",
       "0            F  40.765138 -73.771799     Queens  Entire room/apt   \n",
       "1            F  40.767728 -73.779453   Brooklyn     Private room   \n",
       "2            F  40.764330 -73.772530     Inwood  Entire room/apt   \n",
       "3            M  40.763671 -73.770151  Manhattan  Entire room/apt   \n",
       "4            F  40.765967 -73.777456  Manhattan     Private room   \n",
       "..         ...        ...        ...        ...              ...   \n",
       "95           M  40.765809 -73.772582   Brooklyn     Private room   \n",
       "96           M  40.766726 -73.778148   Brooklyn     Private room   \n",
       "97           F  40.762457 -73.779213     Inwood     Private room   \n",
       "98           M  40.765348 -73.778873     Inwood     Private room   \n",
       "99           F  40.769526 -73.775669  Manhattan  Entire room/apt   \n",
       "\n",
       "    Minimum_nights  review_per_month  total_reviews   price  \n",
       "0                3              4.72            123  Medium  \n",
       "1                2              1.34            138  Medium  \n",
       "2                4              2.97            101  Medium  \n",
       "3                5              4.51             96    High  \n",
       "4                3              7.31            204  Medium  \n",
       "..             ...               ...            ...     ...  \n",
       "95               3              9.90            219  Medium  \n",
       "96               1              8.07            471  Medium  \n",
       "97               1              5.17             92     Low  \n",
       "98               2              0.27             93     Low  \n",
       "99               3              4.59            176    High  \n",
       "\n",
       "[100 rows x 9 columns]"
      ]
     },
     "execution_count": 77,
     "metadata": {},
     "output_type": "execute_result"
    }
   ],
   "source": [
    "df.head(100)"
   ]
  },
  {
   "cell_type": "code",
   "execution_count": null,
   "metadata": {},
   "outputs": [],
   "source": []
  }
 ],
 "metadata": {
  "kernelspec": {
   "display_name": "Python 3",
   "language": "python",
   "name": "python3"
  },
  "language_info": {
   "codemirror_mode": {
    "name": "ipython",
    "version": 3
   },
   "file_extension": ".py",
   "mimetype": "text/x-python",
   "name": "python",
   "nbconvert_exporter": "python",
   "pygments_lexer": "ipython3",
   "version": "3.6.7"
  }
 },
 "nbformat": 4,
 "nbformat_minor": 2
}
